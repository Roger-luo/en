{
 "cells": [
  {
   "cell_type": "code",
   "execution_count": 10,
   "metadata": {
    "collapsed": false
   },
   "outputs": [
    {
     "name": "stderr",
     "output_type": "stream",
     "text": [
      "WARNING: imported binding for scale overwritten in module Main\n"
     ]
    }
   ],
   "source": [
    "const scale = 100\n",
    "data = fill(1.0,scale)\n",
    "adj  = spzeros(Int64,scale,scale)\n",
    "\n",
    "# randomly connected to 4 people\n",
    "\n",
    "for i=1:scale\n",
    "    indexes = rand(1:scale,4)\n",
    "    for j in indexes\n",
    "        adj[i,j] = 1\n",
    "    end\n",
    "end\n",
    "\n",
    "\n",
    "for time = 1:1000\n",
    "    for line_index = 1:scale\n",
    "        trade_id = adj[line_index,:]|>find|>rand\n",
    "        trade_amount = rand()\n",
    "        amount = data[line_index] * trade_amount\n",
    "        data[line_index] -= amount\n",
    "        data[trade_id] += amount\n",
    "    end\n",
    "end "
   ]
  },
  {
   "cell_type": "code",
   "execution_count": 4,
   "metadata": {
    "collapsed": false
   },
   "outputs": [
    {
     "name": "stdout",
     "output_type": "stream",
     "text": [
      "search: graphemes GraphPlot graphfamous isgraph\n",
      "\n",
      "Couldn't find graph\n",
      "Perhaps you meant isgraph, Mmap, atanh, drop, hash, lyap, map, map! or pmap\n"
     ]
    },
    {
     "data": {
      "text/markdown": [
       "No documentation found.\n",
       "\n",
       "Binding `graph` does not exist.\n"
      ],
      "text/plain": [
       "No documentation found.\n",
       "\n",
       "Binding `graph` does not exist.\n"
      ]
     },
     "execution_count": 4,
     "metadata": {},
     "output_type": "execute_result"
    }
   ],
   "source": [
    "graph"
   ]
  },
  {
   "cell_type": "code",
   "execution_count": 9,
   "metadata": {
    "collapsed": false
   },
   "outputs": [
    {
     "data": {
      "text/markdown": [
       "No documentation found.\n",
       "\n",
       "**Summary:**\n",
       "\n",
       "```\n",
       "type Graphs.GenericGraph{V,E,VList,EList,IncList} <: Graphs.AbstractGraph{V,E}\n",
       "```\n",
       "\n",
       "**Fields:**\n",
       "\n",
       "```\n",
       "is_directed :: Bool\n",
       "vertices    :: VList\n",
       "edges       :: EList\n",
       "finclist    :: IncList\n",
       "binclist    :: IncList\n",
       "indexof     :: Dict{V,Int64}\n",
       "```\n"
      ],
      "text/plain": [
       "No documentation found.\n",
       "\n",
       "**Summary:**\n",
       "\n",
       "```\n",
       "type Graphs.GenericGraph{V,E,VList,EList,IncList} <: Graphs.AbstractGraph{V,E}\n",
       "```\n",
       "\n",
       "**Fields:**\n",
       "\n",
       "```\n",
       "is_directed :: Bool\n",
       "vertices    :: VList\n",
       "edges       :: EList\n",
       "finclist    :: IncList\n",
       "binclist    :: IncList\n",
       "indexof     :: Dict{V,Int64}\n",
       "```\n"
      ]
     },
     "execution_count": 9,
     "metadata": {},
     "output_type": "execute_result"
    }
   ],
   "source": [
    "?Graphs.SimpleGraph"
   ]
  },
  {
   "cell_type": "code",
   "execution_count": null,
   "metadata": {
    "collapsed": true
   },
   "outputs": [],
   "source": []
  }
 ],
 "metadata": {
  "kernelspec": {
   "display_name": "Julia 0.5.0",
   "language": "julia",
   "name": "julia-0.5"
  },
  "language_info": {
   "file_extension": ".jl",
   "mimetype": "application/julia",
   "name": "julia",
   "version": "0.5.0"
  }
 },
 "nbformat": 4,
 "nbformat_minor": 1
}
